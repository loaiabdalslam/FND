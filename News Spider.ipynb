{
 "cells": [
  {
   "cell_type": "code",
   "execution_count": 1,
   "metadata": {},
   "outputs": [],
   "source": [
    "import newspaper\n",
    "from datetime import datetime\n",
    "#import nltk\n",
    "#nltk.download('punkt')"
   ]
  },
  {
   "cell_type": "code",
   "execution_count": 2,
   "metadata": {},
   "outputs": [
    {
     "name": "stdout",
     "output_type": "stream",
     "text": [
      "Newspaper : https://www.elwatannews.com/  Finshed !\n",
      "Newspaper : https://www.youm7.com/  Finshed !\n",
      "Newspaper : https://www.masrawy.com/  Finshed !\n",
      "Newspaper : https://www.dostor.org/  Finshed !\n",
      "Newspaper : http://gate.ahram.org.eg/  Finshed !\n",
      "Newspaper : https://www.almasryalyoum.com/  Finshed !\n",
      "Newspaper : https://akhbarak.net/  Finshed !\n",
      "Newspaper : https://alwafd.news/  Finshed !\n"
     ]
    }
   ],
   "source": [
    "articles_links = []\n",
    "newspapers = ['https://www.elwatannews.com/',\n",
    "              'https://www.youm7.com/',\n",
    "              'https://www.masrawy.com/',\n",
    "              'https://www.dostor.org/',\n",
    "              'http://gate.ahram.org.eg/',\n",
    "              'https://www.almasryalyoum.com/',\n",
    "              'https://akhbarak.net/',\n",
    "              'https://alwafd.news/',           \n",
    "             ] \n",
    "for news in newspapers:\n",
    "    paper = newspaper.build(news)\n",
    "    for article in paper.articles:\n",
    "         articles_links.append(article.url)\n",
    "    print(f'Newspaper : {news}  Finshed !')"
   ]
  },
  {
   "cell_type": "code",
   "execution_count": null,
   "metadata": {},
   "outputs": [
    {
     "name": "stdout",
     "output_type": "stream",
     "text": [
      "0 / 1260 \n",
      "1 / 1260 \n",
      "2 / 1260 \n",
      "3 / 1260 \n",
      "4 / 1260 \n",
      "5 / 1260 \n",
      "6 / 1260 \n",
      "7 / 1260 \n",
      "8 / 1260 \n",
      "9 / 1260 \n",
      "10 / 1260 \n",
      "11 / 1260 \n",
      "12 / 1260 \n",
      "13 / 1260 \n",
      "14 / 1260 \n",
      "15 / 1260 \n",
      "16 / 1260 \n",
      "17 / 1260 \n",
      "18 / 1260 \n",
      "19 / 1260 \n",
      "20 / 1260 \n",
      "21 / 1260 \n",
      "22 / 1260 \n",
      "23 / 1260 \n",
      "24 / 1260 \n",
      "25 / 1260 \n",
      "26 / 1260 \n",
      "27 / 1260 \n",
      "28 / 1260 \n",
      "29 / 1260 \n",
      "30 / 1260 \n",
      "31 / 1260 \n",
      "32 / 1260 \n",
      "33 / 1260 \n",
      "34 / 1260 \n",
      "35 / 1260 \n",
      "36 / 1260 \n",
      "37 / 1260 \n",
      "38 / 1260 \n",
      "39 / 1260 \n",
      "40 / 1260 \n",
      "41 / 1260 \n",
      "42 / 1260 \n",
      "43 / 1260 \n",
      "44 / 1260 \n",
      "45 / 1260 \n",
      "46 / 1260 \n",
      "47 / 1260 \n",
      "48 / 1260 \n",
      "49 / 1260 \n",
      "50 / 1260 \n",
      "51 / 1260 \n",
      "52 / 1260 \n",
      "53 / 1260 \n",
      "54 / 1260 \n",
      "55 / 1260 \n",
      "56 / 1260 \n",
      "57 / 1260 \n",
      "58 / 1260 \n",
      "59 / 1260 \n",
      "60 / 1260 \n",
      "61 / 1260 \n",
      "62 / 1260 \n",
      "63 / 1260 \n",
      "64 / 1260 \n",
      "65 / 1260 \n",
      "66 / 1260 \n",
      "67 / 1260 \n",
      "68 / 1260 \n",
      "69 / 1260 \n"
     ]
    }
   ],
   "source": [
    "import csv\n",
    "\n",
    "file_name ='articles'\n",
    "for index,url in enumerate(articles_links):\n",
    "    try:\n",
    "        with open('articles.csv', 'a',encoding=\"utf-8\", newline='\\n') as file:\n",
    "            writer = csv.writer(file)\n",
    "            if index == 0 : \n",
    "                writer.writerow([\"N\", \"title\", \"text\",\"summary\",\"keywords\",\"authors\",\"date\",\"source\"])\n",
    "            else :\n",
    "                a = Article(url, language='ar') # Chinese\n",
    "                a.download()\n",
    "                a.parse()\n",
    "                a.nlp()\n",
    "                date = a.publish_date.strftime('%y-%m-%d')\n",
    "                keywords = \",\".join(a.keywords)\n",
    "                writer.writerow([index, a.title, a.text,a.summary,keywords,a.authors,date])\n",
    "        print(f'{index} / {len(articles_links)} ')\n",
    "    except:\n",
    "        continue\n",
    "    "
   ]
  },
  {
   "cell_type": "code",
   "execution_count": null,
   "metadata": {},
   "outputs": [],
   "source": []
  }
 ],
 "metadata": {
  "kernelspec": {
   "display_name": "Python 3",
   "language": "python",
   "name": "python3"
  },
  "language_info": {
   "codemirror_mode": {
    "name": "ipython",
    "version": 3
   },
   "file_extension": ".py",
   "mimetype": "text/x-python",
   "name": "python",
   "nbconvert_exporter": "python",
   "pygments_lexer": "ipython3",
   "version": "3.7.6"
  }
 },
 "nbformat": 4,
 "nbformat_minor": 4
}
