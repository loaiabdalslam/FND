{
 "cells": [
  {
   "cell_type": "code",
   "execution_count": 16,
   "metadata": {},
   "outputs": [],
   "source": [
    "import newspaper\n",
    "from datetime import datetime\n",
    "#import nltk\n",
    "#nltk.download('punkt')"
   ]
  },
  {
   "cell_type": "code",
   "execution_count": 17,
   "metadata": {},
   "outputs": [
    {
     "name": "stdout",
     "output_type": "stream",
     "text": [
      "Newspaper : https://www.elwatannews.com/  Finshed !\n",
      "Newspaper : https://www.youm7.com/  Finshed !\n",
      "Newspaper : https://www.masrawy.com/  Finshed !\n",
      "Newspaper : https://www.dostor.org/  Finshed !\n",
      "Newspaper : http://gate.ahram.org.eg/  Finshed !\n",
      "Newspaper : https://www.almasryalyoum.com/  Finshed !\n",
      "Newspaper : https://akhbarak.net/  Finshed !\n",
      "Newspaper : https://alwafd.news/  Finshed !\n"
     ]
    }
   ],
   "source": [
    "articles_links = []\n",
    "newspapers = ['https://www.elwatannews.com/',\n",
    "              'https://www.youm7.com/',\n",
    "              'https://www.masrawy.com/',\n",
    "              'https://www.dostor.org/',\n",
    "              'http://gate.ahram.org.eg/',\n",
    "              'https://www.almasryalyoum.com/',\n",
    "              'https://akhbarak.net/',\n",
    "              'https://alwafd.news/',           \n",
    "             ] \n",
    "for news in newspapers:\n",
    "    paper = newspaper.build(news)\n",
    "    for article in paper.articles:\n",
    "         articles_links.append(article.url)\n",
    "    print(f'Newspaper : {news}  Finshed !')"
   ]
  },
  {
   "cell_type": "code",
   "execution_count": 20,
   "metadata": {},
   "outputs": [
    {
     "name": "stdout",
     "output_type": "stream",
     "text": [
      "0 / 66 \n"
     ]
    }
   ],
   "source": [
    "import csv\n",
    "\n",
    "file_name ='articles'\n",
    "for index,url in enumerate(articles_links):\n",
    "    try:\n",
    "        with open('articles.csv', 'a+',encoding=\"utf-8\", newline='\\n') as file:\n",
    "            writer = csv.writer(file)\n",
    "            if index == 0 : \n",
    "                writer.writerow([\"N\", \"title\", \"text\",\"summary\",\"keywords\",\"authors\",\"date\",\"source\"])\n",
    "            else :\n",
    "                a = Article(url, language='ar') # Chinese\n",
    "                a.download()\n",
    "                a.parse()\n",
    "                a.nlp()\n",
    "                date = a.publish_date.strftime('%y-%m-%d')\n",
    "                keywords = \",\".join(a.keywords)\n",
    "                writer.writerow([index, a.title, a.text,a.summary,keywords,a.authors,date])\n",
    "        print(f'{index} / {len(articles_links)} ')\n",
    "    except:\n",
    "        continue\n",
    "    "
   ]
  },
  {
   "cell_type": "code",
   "execution_count": null,
   "metadata": {},
   "outputs": [],
   "source": []
  }
 ],
 "metadata": {
  "kernelspec": {
   "display_name": "Python 3",
   "language": "python",
   "name": "python3"
  },
  "language_info": {
   "codemirror_mode": {
    "name": "ipython",
    "version": 3
   },
   "file_extension": ".py",
   "mimetype": "text/x-python",
   "name": "python",
   "nbconvert_exporter": "python",
   "pygments_lexer": "ipython3",
   "version": "3.7.6"
  }
 },
 "nbformat": 4,
 "nbformat_minor": 4
}
